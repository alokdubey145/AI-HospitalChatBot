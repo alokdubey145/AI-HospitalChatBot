{
  "cells": [
    {
      "cell_type": "code",
      "execution_count": null,
      "metadata": {
        "id": "-N1Tw0kEtHEa"
      },
      "outputs": [],
      "source": [
        "pip install python-aiml"
      ]
    },
    {
      "cell_type": "code",
      "execution_count": null,
      "metadata": {
        "id": "Yd3_09UjtqZn"
      },
      "outputs": [],
      "source": [
        "import aiml"
      ]
    },
    {
      "cell_type": "markdown",
      "source": [],
      "metadata": {
        "id": "XqGc0oXy8Gsy"
      }
    },
    {
      "cell_type": "code",
      "execution_count": null,
      "metadata": {
        "colab": {
          "base_uri": "https://localhost:8080/",
          "height": 70
        },
        "id": "Ros059uDuA1p",
        "outputId": "41d52297-b875-4014-d4a3-4b4bcd2fcdc5"
      },
      "outputs": [
        {
          "output_type": "stream",
          "name": "stdout",
          "text": [
            "Loading /content/hospitalChatbot.xml...done (0.01 seconds)\n",
            "Loading /content/hospitalChatbot.aiml...done (0.02 seconds)\n"
          ]
        },
        {
          "output_type": "execute_result",
          "data": {
            "text/plain": [
              "''"
            ],
            "application/vnd.google.colaboratory.intrinsic+json": {
              "type": "string"
            }
          },
          "metadata": {},
          "execution_count": 3
        }
      ],
      "source": [
        "# Create the kernel and learn AIML files\n",
        "kernel = aiml.Kernel()\n",
        "kernel.learn(\"/content/hospitalChatbot.xml\")\n",
        "kernel.respond(\"load prac 2\")"
      ]
    },
    {
      "cell_type": "code",
      "execution_count": null,
      "metadata": {
        "colab": {
          "background_save": true
        },
        "id": "8gbE8TbsuG9n"
      },
      "outputs": [],
      "source": [
        "while True:\n",
        "    input_text= input(\">You: \")\n",
        "    response =kernel.respond(input_text)\n",
        "    print(\">Bot: \"+response)"
      ]
    }
  ],
  "metadata": {
    "colab": {
      "provenance": []
    },
    "kernelspec": {
      "display_name": "Python 3",
      "name": "python3"
    },
    "language_info": {
      "name": "python"
    }
  },
  "nbformat": 4,
  "nbformat_minor": 0
}